{
 "cells": [
  {
   "cell_type": "markdown",
   "id": "0c98d8be",
   "metadata": {},
   "source": [
    "# Dados Faltantes (<em>Missing Data</em>)"
   ]
  },
  {
   "cell_type": "markdown",
   "id": "fbf7dc58",
   "metadata": {},
   "source": [
    "Imaginar que os dados obtidos de sensores irão sempre produzir <em>datasets</em> limpos pode ser considerado uma utopia. Diversos problemas podem ocorrer no processo de aquisiçao de dados ou no transporte desses até a Nuvem, como problemas físico com o <em>hardware</em> dos sensores, falta de energia, problemas com conectividade, dentre outros.\n",
    "É comum que os <em>datasets</em> apresentem dados faltantes, duplicados, confusos, insuficientes ou que tenha presença de valores atípicos (<em>outliers</em>). Em resumo, dados faltantes são inevitáveis. \n",
    "\n",
    "Para ajudar a solucuonar problemas como este, cientistas e analistas de dados ou analistas de negócios devem conhecer a natureza pela qual o conjunto de dados analizado pertence. Por exemplo, num <em>dataset</em> que representa dados ambientais, não é comum que encontremos um valor 9999 para temperatura. Não é um valor esperado para temperatura.\n",
    "\n",
    "Existem algumas técnicas para trabalhar com Dados Faltantes, mas as que abordaremos neste curso são a <strong>imputação</strong> e <strong>interpolação</strong>.\n",
    "\n",
    "Todos os exemplos utilizados nesta prática são baseados nos mesmos exemplos do livro <a href=\"https://github.com/PacktPublishing/Time-Series-Analysis-with-Python-Cookbook\">Time Series Analysis with Python - Cookbook</a>"
   ]
  },
  {
   "cell_type": "markdown",
   "id": "bc3d3ad8",
   "metadata": {},
   "source": [
    "## Requisitos técnicos\n",
    "Iremos trabalhar com dois <em>datasets</em> nos exemplos:\n",
    "- Emissões de CO2, com dados anuais obtidos através de relatórios do portal <a href=\"https://ourworldindata.org/\">Our World in Data</a>. Disponível em <a href=\"https://ourworldindata.org/co2-emissions\">https://ourworldindata.org/co2-emissions</a>.\n",
    "- Fluxo de cliques em e-shop, disponível em <a href=\"https://archive.ics.uci.edu/ml/datasets/clickstream+data+for+online+shopping\">https://archive.ics.uci.edu/ml/datasets/clickstream+data+for+online+shopping</a>"
   ]
  },
  {
   "cell_type": "code",
   "execution_count": 3,
   "id": "073647f7",
   "metadata": {},
   "outputs": [],
   "source": [
    "import pandas as pd\n",
    "import matplotlib.pyplot as plt\n",
    "from matplotlib.patches import Rectangle\n",
    "import matplotlib.dates as mdates\n",
    "import numpy as np"
   ]
  },
  {
   "cell_type": "markdown",
   "id": "583ef3e6",
   "metadata": {},
   "source": [
    "Será necessário o uso intenso da biblioteca pandas e outras quatro bibliotecas:\n",
    "- Numpy (≥ 1.20.3)\n",
    "- Matplotlib (≥ 3.5.0)\n",
    "- statsmodels (≥ 0.11.0)\n",
    "- scikit-learn (≥ 1.0.1)\n",
    "- SciPy (≥ 1.7.1)\n",
    "\n",
    "Se você estiver usando pip, basta instalar os pacotes com o seguinte comando no seu terminal:\n",
    " ```\n",
    " pip install matplotlib numpy statsmodels scikit-learn scipy\n",
    "```\n",
    "\n",
    "Se você estiver usando conda, então você pode instalar as bibliotecas com o seguinte comando:\n",
    "```\n",
    "conda install matplotlib numpy statsmodels scikit-learn scipy\n",
    "```"
   ]
  },
  {
   "cell_type": "code",
   "execution_count": 4,
   "id": "8f9dd5b1",
   "metadata": {},
   "outputs": [
    {
     "name": "stdout",
     "output_type": "stream",
     "text": [
      "\n",
      "pandas -> 1.0.5\n",
      "numpy -> 1.23.1\n",
      "matplotlob -> 3.5.2\n",
      "statsmodels -> 0.13.4\n",
      "scikit-learn -> 1.1.3\n",
      "\n"
     ]
    }
   ],
   "source": [
    "import matplotlib\n",
    "import sklearn\n",
    "import statsmodels as sm\n",
    "\n",
    "print(f'''\n",
    "pandas -> {pd.__version__}\n",
    "numpy -> {np.__version__}\n",
    "matplotlob -> {matplotlib.__version__}\n",
    "statsmodels -> {sm.__version__}\n",
    "scikit-learn -> {sklearn.__version__}\n",
    "''')\n"
   ]
  },
  {
   "cell_type": "markdown",
   "id": "051af4a0",
   "metadata": {},
   "source": [
    "### Funções necessárias para as práticas"
   ]
  },
  {
   "cell_type": "markdown",
   "id": "9ffe7fac",
   "metadata": {},
   "source": [
    "#### ```read_dataset()```"
   ]
  },
  {
   "cell_type": "code",
   "execution_count": 5,
   "id": "a7084469",
   "metadata": {},
   "outputs": [],
   "source": [
    "def read_dataset(url, date_col):\n",
    "    '''\n",
    "     date_col: especifica uma coluna de data para ser usada como coluna de índice\n",
    "    \n",
    "    Por praticidade e pela possibilidade de executar este notebook na Nuvem, opta-se pela utilização de \n",
    "    URL's para obter o dataset. Caso você queira utilizar datasets localmente em sua máquina, comente \n",
    "    as linhas abaixo que não estão comentadas e descomente as que estão comentadas'''\n",
    "    df = pd.read_csv(url, \n",
    "                     index_col=date_col, \n",
    "                     parse_dates=[date_col])\n",
    "    '''\n",
    "    #dir: é um objeto de Path #(necessário importar a biblioteca: from pathlib import Path) \n",
    "    #arquivo: o nome do arquivo CSV no objeto Path\n",
    "\n",
    "   \n",
    "    df = pd.read_csv(folder / file, \n",
    "                     index_col=date_col, \n",
    "                     parse_dates=[date_col])\n",
    "    '''\n",
    "    \n",
    "    #  retorna: pandas DataFrame com um DatetimeIndex\n",
    "    return df"
   ]
  },
  {
   "cell_type": "markdown",
   "id": "befaa8d8",
   "metadata": {},
   "source": [
    "#### ```plot_df()```"
   ]
  },
  {
   "cell_type": "markdown",
   "id": "c6e4f593",
   "metadata": {},
   "source": [
    "Esta função \"plota\" gráficos de séries temporais usando uma coluna de parâmetro (```col```). Esta coluna contém os dados faltantes. \n",
    "\n",
    "O objetivo da função é comparar dois dataframes: ```df1``` (dataframe original, sem dados faltantes) e ```df2``` para comparar ambos"
   ]
  },
  {
   "cell_type": "code",
   "execution_count": 6,
   "id": "5fbbf297",
   "metadata": {},
   "outputs": [],
   "source": [
    "def plot_df(df1, df2, col, titulo=None, xlabel=None, ylabel=None):\n",
    "    '''\t\n",
    "    df1: dataframe original (sem dados faltantes)\n",
    "    df2: dataframe com dados faltantes\n",
    "    col: nome da coluna que contém dados faltantes\n",
    "    '''    \n",
    "    df_f = df2.rename(columns={col: 'faltante'})\n",
    "    \n",
    "    colunas = df_f.loc[:, 'faltante':].columns.tolist()\n",
    "    subplots_t = len(colunas)\n",
    "   \n",
    "    fig, ax = plt.subplots(subplots_t+1, 1, sharex=True)\n",
    "    plt.subplots_adjust(hspace=0.25)\n",
    "    fig.suptitle = title \n",
    "    \n",
    "    df1[col].plot(ax=ax[0], figsize=(10, 16))\n",
    "    ax[0].set_title('Dataset Original')\n",
    "    ax[0].set_xlabel(xlabel)\n",
    "    ax[0].set_ylabel(ylabel)    \n",
    "    \n",
    "    for i, nomecol in enumerate(colunas):\n",
    "        df_f[nomecol].plot(ax=ax[i+1])\n",
    "        ax[i+1].set_title(nomecol)\n",
    "\n",
    "    plt.show()"
   ]
  },
  {
   "cell_type": "markdown",
   "id": "54d34d74",
   "metadata": {},
   "source": [
    "### ```indice_rmse()```"
   ]
  },
  {
   "cell_type": "markdown",
   "id": "0c6e5e91",
   "metadata": {},
   "source": [
    "Existem algumas abordagens que podem ser adotadas para lidar com dados faltantes. Algumas são mais apropriadas para determinados cenários. Algumas a se destacar:\n",
    "1. Remoção dos dados faltantes (não indicado, principalmente quando se tem um conjunto pequeno de dados)\n",
    "2. Criar \"etiquetas\" para identificar dados faltantes. Ex.: (Se em algum dia, você descobriu que houve falha de energia, você poderia informar isso nos dias em que houve essa falha, para distinguir registros faltantes dos não faltantes)\n",
    "3. Estimar os dados faltantes. Abriga um conjunto de técnicas que vão desde o simples até o mais sofisticado (de técnicas de ML até modelos estatísticos complexos).\n",
    "Nós utilizaremos a \"raiz quadrada média de erro\" (do inglês <em>root mean square error</em> - RSME) entre os valores observados e preditos, conforme a fórmula abaixo:\n",
    "<img src=\" data:image/png;base64,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\"></img>\n",
    "\n",
    "Onde:\n",
    "- $Y_i$ é o valor observado\n",
    "- $\\hat{Y}$ é o valor predito (no nosso exemplo, seria o valor faltante)\n",
    "\n",
    "RSME será utilizada por nós para avaliar os múltiplos métodos de imputação de dados. A técnica é muito utilizada para avaliar a perfomance de modelos preditivos (por exemplo, comparar modelos de regressão). Geralmente, quanto menor o valor RSME, melhor. Ou seja, a fórmula nos diz a distância média entre o valor predito (no nosso caso, onde há dados faltantes) e o valor atual."
   ]
  },
  {
   "cell_type": "code",
   "execution_count": 7,
   "id": "178bd5db",
   "metadata": {},
   "outputs": [],
   "source": [
    "def indice_rmse(df1, df2, col=None):\n",
    "    '''\n",
    "    df1: dataframe original (sem dados faltantes)\n",
    "    df2: dataframe com dados faltantes\n",
    "    col: nome da coluna que contém dados faltantes\n",
    "\n",
    "    retorna: a lista de índices\n",
    "    '''\n",
    "    df_f = df2.rename(columns={col: 'faltante'})\n",
    "    colunas = df_missing.loc[:, 'faltante':].columns.tolist()\n",
    "    scores = []\n",
    "    for comp_col in df_f[1:]:\n",
    "        rmse = np.sqrt(np.mean((df1[col] - df_f[comp_col])**2))\n",
    "        scores.append(rmse)\n",
    "        print(f'RMSE de {comp_col}: {rmse}')\n",
    "    return scores"
   ]
  },
  {
   "cell_type": "markdown",
   "id": "e6f1bd9e",
   "metadata": {},
   "source": [
    "## Realizando testes de qualidade"
   ]
  },
  {
   "cell_type": "markdown",
   "id": "29209f40",
   "metadata": {},
   "source": [
    "Dados faltantes podem representar valores facilmente distinguíveis dos \"normais\", como\n",
    "- ```NaN```, ```NaT``` ou ```NA```\n",
    "- Podem ser substituídos por valores quantitativos, como ```9999``` ou ```0``` (valores com ```0``` sempre devem ser investigados) e valores qualitativos (por exemplo, ```missing```)"
   ]
  }
 ],
 "metadata": {
  "kernelspec": {
   "display_name": "Python 3 (ipykernel)",
   "language": "python",
   "name": "python3"
  },
  "language_info": {
   "codemirror_mode": {
    "name": "ipython",
    "version": 3
   },
   "file_extension": ".py",
   "mimetype": "text/x-python",
   "name": "python",
   "nbconvert_exporter": "python",
   "pygments_lexer": "ipython3",
   "version": "3.9.2"
  }
 },
 "nbformat": 4,
 "nbformat_minor": 5
}
